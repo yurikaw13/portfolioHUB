{
  "cells": [
    {
      "cell_type": "markdown",
      "metadata": {
        "id": "LM-BU28PWg9K"
      },
      "source": [
        "### Exercícios (utilize apenas conteúdos vistos em aula)\n",
        "\n",
        "1. Faça um programa mostre o seu primeiro nome na tela.\n",
        "\n",
        "\n",
        "2. Faça um programa que pede o primeiro nome do usuário e um sobrenome e mostra os dois nomes digitados na tela.\n",
        "\n",
        "3. Faça um programa que mostra um X bem grande na tela, utilizando o print (um ou mais vezes). Obs.: esse X deverá ter, pelo menos altura de 7 caracteres. Desafio: fazer essa tarefa em um único print.\n",
        "\n",
        "4. Faça um programa que pede o dia e mês de aniversário e diz quantos dias faltam para o aniversário, quantos dias se passaram do aniversário ou se hoje é o aniversário do usuário. (obs.: não utilize bibliotecas)\n",
        "\n",
        "5. Sua tarefa é criar um programa em Python que pede o preço original de um produto e dá 20% de desconto.\n",
        "\n",
        "    Você deve mostrar uma tabela contendo:    \n",
        "a. Preço original do produto.  \n",
        "b. Valor do desconto em R\\$ (tipo 'Você ganho R$ xx,xx de desconto').  \n",
        "c. Valor do produto com o desconto.\n",
        "\n",
        "6. Generalize o problema anterior, perguntando a porcentagem de desconto e mostrando os mesmos dados acima.\n",
        "\n",
        "7. Faça um programa que peça 3 valores e calcula sua média aritmética simples, mostrando esse resultado na tela.\n",
        "\n",
        "8. Faça um programa que peça 4 valores positivos e calcula:  \n",
        "    a. A média aritmética simples.  \n",
        "    b. A média geométrica.  \n",
        "    c. A média harmônica\n",
        "\n",
        "9. Faça um programa que peça 4 números reais e calcula:  \n",
        "    a. A média aritmética simples.  \n",
        "    b. A variância desses dados.  \n",
        "    c. O desvio padrão desses dados.\n",
        "\n",
        "\n",
        "10. Faça um programa que, dados 3 números inteiros, mostre na tela o maior deles.\n",
        "\n",
        "11. Faça um programa que, dados 3 números inteiros, mostre na tela esses números em ordem crescente.\n",
        "\n",
        "\n",
        "\n",
        "12. Faça um programa que, dados 3 strings, mostra essas strings em ordem alfabética.\n",
        "\n",
        "\n",
        "13. Faça um programa que peça a informação se o usuário é homem ou mulher, o peso, a altura e a idade e mostre na tela o TMB em calorias.   \n",
        "A Taxa Metabólica Basal (TMB) é a quantidade mínima de energia que o corpo precisa para manter as funções vitais, como respiração, circulação e temperatura corporal, em repouso. A TMB representa cerca de 60% a 70% do gasto energético total diário de uma pessoa e varia de acordo com o sexo, a idade, o peso e a altura.\n",
        "\n",
        "    Para calcular a TMB manualmente, você deve usar as seguintes fórmulas da equação de Harris-Benedict:\n",
        "\n",
        "    Para homens: TMB = 66,47 + (13,75 x peso em kg) + (5,003 x altura em cm) - (6,755 x idade em anos)\n",
        "    \n",
        "    Para mulheres: TMB = 655,09 + (9,563 x peso em kg) + (1,85 x altura em cm) - (4,676 x idade em anos)  \n",
        "     \n",
        "\n",
        "14. Faça um programa que peça um número inteiro para o usuário e mostra a tabuada desse número.\n",
        "\n",
        "    "
      ]
    },
    {
      "cell_type": "code",
      "execution_count": null,
      "metadata": {
        "id": "9MYUUJi0Vj7C",
        "colab": {
          "base_uri": "https://localhost:8080/"
        },
        "outputId": "0549d771-d015-41ac-ca61-98092fa48028"
      },
      "outputs": [
        {
          "output_type": "stream",
          "name": "stdout",
          "text": [
            "Yuri\n"
          ]
        }
      ],
      "source": [
        "#Exercicio 1\n",
        "print('Yuri')\n"
      ]
    },
    {
      "cell_type": "code",
      "execution_count": null,
      "metadata": {
        "colab": {
          "base_uri": "https://localhost:8080/"
        },
        "id": "-CG67lbU0Mgg",
        "outputId": "649de632-4b94-417f-de0b-1a8c2171d5c4"
      },
      "outputs": [
        {
          "output_type": "stream",
          "name": "stdout",
          "text": [
            "Digite seu nome: Yuri\n",
            "Olá Yuri\n"
          ]
        }
      ],
      "source": [
        "#Exercicio 2\n",
        "nome = input('Digite seu nome: ')\n",
        "print('Olá', nome)\n"
      ]
    },
    {
      "cell_type": "code",
      "execution_count": null,
      "metadata": {
        "colab": {
          "base_uri": "https://localhost:8080/"
        },
        "id": "KbQvDrcb0Mgh",
        "outputId": "4b7792da-3fa9-4b98-b0b2-bf4004300ea8"
      },
      "outputs": [
        {
          "output_type": "stream",
          "name": "stdout",
          "text": [
            "\\      /\n",
            " \\    / \n",
            "  \\  /  \n",
            "   \\/    \n",
            "   /\\  \n",
            "  /  \\ \n",
            " /    \\\n",
            "/      \\\n"
          ]
        }
      ],
      "source": [
        "#Exercicio 3\n",
        "print(\"\\\\      /\\n \\\\    / \\n  \\\\  /  \\n   \\/    \\n   /\\\\  \\n  /  \\\\ \\n /    \\\\\\n/      \\\\\")\n"
      ]
    },
    {
      "cell_type": "code",
      "execution_count": null,
      "metadata": {
        "colab": {
          "base_uri": "https://localhost:8080/"
        },
        "id": "b2gn_rtqwF59",
        "outputId": "f303bc7b-07e0-42fd-cae4-d8dc52f0d976"
      },
      "outputs": [
        {
          "output_type": "stream",
          "name": "stdout",
          "text": [
            "Digite o dia de seu aniversário: 4\n",
            "Digite o mês de seu aniversário: 4\n",
            "Faltam 2 dias para seu aniversário!\n"
          ]
        }
      ],
      "source": [
        "#Exercicio 4 Dia 02/04/2025\n",
        "dia = int(input('Digite o dia de seu aniversário: '))\n",
        "mes = int(input('Digite o mês de seu aniversário: '))\n",
        "m = 'm'\n",
        "s = 's'\n",
        "\n",
        "\n",
        "if mes == 1:\n",
        "    diff_dias = 60 + 32 - dia\n",
        "    print(f\"Passaram {diff_dias} dias de seu aniversário!\")\n",
        "\n",
        "elif mes == 2:\n",
        "    diff_dias = 32 + 29 - dia\n",
        "    print(f\"Passaram {diff_dias} dias de seu aniversário!\")\n",
        "\n",
        "elif mes == 3:\n",
        "    diff_dias = 33 - dia\n",
        "    print(f\"Passaram {diff_dias} dias de seu aniversário!\")\n",
        "\n",
        "elif mes == 4:\n",
        "    diff_dias = dia - 2\n",
        "    if diff_dias == 1:\n",
        "        m = ''\n",
        "        s = ''\n",
        "    if diff_dias == 0:\n",
        "        print(\"Feliz aniversário!\")\n",
        "    elif diff_dias > 0:\n",
        "        print(f\"Falta{m} {diff_dias} dia{s} para seu aniversário!\")\n",
        "    else:\n",
        "        print(f\"Passou {-1 * diff_dias} dia de seu aniversário!\")\n",
        "\n",
        "elif mes == 5:\n",
        "    dias_faltantes = 28 + dia\n",
        "    print(f'Faltam {dias_faltantes} dias para seu aniversário!')\n",
        "\n",
        "elif mes == 6:\n",
        "    dias_faltantes = 59 + dia  # 28(abril) + 31(maio) = 59\n",
        "    print(f'Faltam {dias_faltantes} dias para seu aniversário!')\n",
        "\n",
        "elif mes == 7:\n",
        "    dias_faltantes = 89 + dia  # 28(abril) + 31(maio)  + 30(junho)= 89\n",
        "    print(f'Faltam {dias_faltantes} dias para seu aniversário!')\n",
        "elif mes == 8:\n",
        "    dias_faltantes = 120 + dia  # 28(abril) + 31(maio)  + 30(junho) + 31(julho)= 120\n",
        "    print(f'Faltam {dias_faltantes} dias para seu aniversário!')\n",
        "\n",
        "elif mes == 9:\n",
        "    dias_faltantes = 151 + dia\n",
        "    print(f'Faltam {dias_faltantes} dias para seu aniversário!')\n",
        "\n",
        "elif mes == 10:\n",
        "    dias_faltantes = 181 + dia\n",
        "    print(f'Faltam {dias_faltantes} dias para seu aniversário!')\n",
        "elif mes == 11:\n",
        "    dias_faltantes = 212 + dia\n",
        "    print(f'Faltam {dias_faltantes} dias para seu aniversário!')\n",
        "\n",
        "elif mes == 12:\n",
        "    dias_faltantes = 242 + dia\n",
        "    print(f'Faltam {dias_faltantes} dias para seu aniversário!')\n",
        "\n",
        "else:\n",
        "    print(\"Mês inválido\")\n"
      ]
    },
    {
      "cell_type": "code",
      "execution_count": null,
      "metadata": {
        "colab": {
          "base_uri": "https://localhost:8080/"
        },
        "id": "-gzSxQR90Mgk",
        "outputId": "24cf1917-2542-4277-ce0c-ea7829830c67"
      },
      "outputs": [
        {
          "output_type": "stream",
          "name": "stdout",
          "text": [
            "Preço do produto:85\n",
            "você ganhou 17.00 R$ de desconto!\n",
            "valor original: 85.00\n",
            "valor final: 68.00\n"
          ]
        }
      ],
      "source": [
        "#Exercicio 5\n",
        "preco = float(input('Preço do produto:'))\n",
        "conta = (preco * 0.8)\n",
        "conta2 = (preco * 0.2)\n",
        "\n",
        "print(f'você ganhou {conta2:.2f}'' R$ de desconto!')\n",
        "print(f'valor original: {preco:.2f}')\n",
        "print(f'valor final: {conta:.2f}')\n"
      ]
    },
    {
      "cell_type": "code",
      "execution_count": null,
      "metadata": {
        "colab": {
          "base_uri": "https://localhost:8080/"
        },
        "id": "1ffqQWG-0Mgl",
        "outputId": "4099dd39-f6b6-4c23-8380-8819ac989bc7"
      },
      "outputs": [
        {
          "output_type": "stream",
          "name": "stdout",
          "text": [
            "Digite o preço original do produto: 100\n",
            "Digite a porcentagem do desconto: 33.33333\n",
            "Preço Original: 100.00\n",
            "Preço com Desconto: 66.67\n",
            "Desconto: 33.33\n"
          ]
        }
      ],
      "source": [
        "#Exercicio 6\n",
        "preco_original = float(input(\"Digite o preço original do produto: \"))\n",
        "porcentagem_desconto=float(input('Digite a porcentagem do desconto: '))\n",
        "desconto = preco_original * (porcentagem_desconto /100)\n",
        "preco_com_desconto = preco_original - desconto\n",
        "print(f'Preço Original: {preco_original:.2f}')\n",
        "print(f'Preço com Desconto: {preco_com_desconto:.2f}')\n",
        "print(f'Desconto: {desconto:.2f}')\n"
      ]
    },
    {
      "cell_type": "code",
      "execution_count": null,
      "metadata": {
        "id": "y-krP-1q0Mgm",
        "outputId": "ccbd5e7b-bdd9-4fae-ebff-5e886666a78d",
        "colab": {
          "base_uri": "https://localhost:8080/"
        }
      },
      "outputs": [
        {
          "output_type": "stream",
          "name": "stdout",
          "text": [
            "Digite o primeiro numero: 33.33\n",
            "Digite o segundo numero: 47\n",
            "Digite o terceiro numero: 67.57\n",
            "49.29999999999999\n"
          ]
        }
      ],
      "source": [
        "#Exercicio 7\n",
        "num1 = float(input('Digite o primeiro numero: '))\n",
        "num2 = float(input('Digite o segundo numero: '))\n",
        "num3 = float(input('Digite o terceiro numero: '))\n",
        "resultado = ((num1 + num2 + num3) /3)\n",
        "print(resultado)\n"
      ]
    },
    {
      "cell_type": "code",
      "execution_count": null,
      "metadata": {
        "id": "uZmNBrEi0Mgn",
        "outputId": "10e1eff9-166f-448b-a8a6-d4f32a38b898",
        "colab": {
          "base_uri": "https://localhost:8080/"
        }
      },
      "outputs": [
        {
          "output_type": "stream",
          "name": "stdout",
          "text": [
            "Digite o primeiro numero positivo: 2\n",
            "Digite o segundo numero positivo: 2\n",
            "Digite o terceiro numero positivo: 2\n",
            "Digite o quarto numero positivo: -2\n",
            "Digite um numero positivo! Caso insista novamente, usarei o módulo dos números digitados.\n",
            "Digite o primeiro numero: -5\n",
            "Digite o segundo numero: -5\n",
            "Digite o terceiro numero: -5\n",
            "Digite o quarto numero: -5\n",
            "A média aritmética simples é 5.0\n",
            "A média geométrica é 5.0\n",
            "A média harmônica é 5.0\n"
          ]
        }
      ],
      "source": [
        "#Exercicio 8\n",
        "num1 = float(input('Digite o primeiro numero positivo: '))\n",
        "num2 = float(input('Digite o segundo numero positivo: '))\n",
        "num3 = float(input('Digite o terceiro numero positivo: '))\n",
        "num4 = float(input(\"Digite o quarto numero positivo: \"))\n",
        "if num1 < 0 or num2 < 0 or num3 < 0 or num4 < 0:\n",
        "  print('Digite um numero positivo! Caso insista novamente, usarei o módulo dos números digitados.')\n",
        "\n",
        "  num1 = abs(float(input('Digite o primeiro numero: ')))\n",
        "  num2 = abs(float(input('Digite o segundo numero: ')))\n",
        "  num3 = abs(float(input('Digite o terceiro numero: ')))\n",
        "  num4 = abs(float(input(\"Digite o quarto numero: \")))\n",
        "\n",
        "  resultado_arimetica= ((num1 + num2 + num3 + num4) /4)\n",
        "  resultado_geometrica=(num1*num2*num3*num4) ** (1/4)\n",
        "  resultado_harmonica = 4 / ((1/num1) + (1/num2) + (1/num3) + (1/num4))\n",
        "  print('A média aritmética simples é',resultado_arimetica)\n",
        "  print('A média geométrica é',resultado_geometrica)\n",
        "  print('A média harmônica é',resultado_harmonica)\n",
        "\n",
        "else:\n",
        "\n",
        " resultado_arimetica= ((num1 + num2 + num3 + num4) /4)\n",
        " resultado_geometrica=(num1*num2*num3*num4) ** (1/4)\n",
        " resultado_harmonica = 4 / ((1/num1) + (1/num2) + (1/num3) + (1/num4))\n",
        " print('A média aritmética simples é',resultado_arimetica)\n",
        " print('A média geométrica é',resultado_geometrica)\n",
        " print('A média harmônica é',resultado_harmonica)\n",
        "\n"
      ]
    },
    {
      "cell_type": "code",
      "execution_count": null,
      "metadata": {
        "id": "5gjbSvYd0Mgo",
        "outputId": "dc2e8245-2429-40b2-caf5-eb9d9bc93085",
        "colab": {
          "base_uri": "https://localhost:8080/"
        }
      },
      "outputs": [
        {
          "output_type": "stream",
          "name": "stdout",
          "text": [
            "Digite o primeiro numero:2\n",
            "Digite o segundo numero:4\n",
            "Digite o terceiro numero:6\n",
            "Digite o quarto numero:8\n",
            "5.0\n",
            "6.666666666666667\n",
            "2.581988897471611\n"
          ]
        }
      ],
      "source": [
        "#Exercicio 9\n",
        "\n",
        "num1 = int(input('Digite o primeiro numero real:'))\n",
        "num2 = int(input('Digite o segundo numero real:'))\n",
        "num3 = int(input('Digite o terceiro numero real:'))\n",
        "num4 = int(input(\"Digite o quarto numero real:\"))\n",
        "resultado_arimetica= ((num1 + num2 + num3 + num4) /4)\n",
        "v1 = (num1 - resultado_arimetica)**2\n",
        "v2 = (num2 - resultado_arimetica)**2\n",
        "v3 = (num3 - resultado_arimetica)**2\n",
        "v4 = (num4 - resultado_arimetica)**2\n",
        "variancia = (v1 + v2 + v3 + v4) / 3\n",
        "desvio = variancia ** 0.5\n",
        "print(resultado_arimetica)\n",
        "print(variancia)\n",
        "print(desvio)\n"
      ]
    },
    {
      "cell_type": "code",
      "execution_count": null,
      "metadata": {
        "id": "MFq1PjWO0Mgp",
        "outputId": "0495cc82-5608-4b95-aec9-f74cc8dcd587",
        "colab": {
          "base_uri": "https://localhost:8080/"
        }
      },
      "outputs": [
        {
          "output_type": "stream",
          "name": "stdout",
          "text": [
            "Digite o primeiro numero:1\n",
            "Digite o segundo numero:2\n",
            "Digite o terceiro numero:23\n",
            "23\n"
          ]
        }
      ],
      "source": [
        "#Exercicio 10\n",
        "num1 = int(input('Digite o primeiro numero inteiro:'))\n",
        "num2 = int(input('Digite o segundo numero inteiro:'))\n",
        "num3 = int(input('Digite o terceiro numero inteiro:'))\n",
        "if num1 > num2 and num1 > num3:\n",
        "    print(num1)\n",
        "if num2 > num3 and num2 > num1:\n",
        "     print(num2)\n",
        "if num3 > num2 and num3 > num1:\n",
        "      print(num3)\n"
      ]
    },
    {
      "cell_type": "code",
      "execution_count": null,
      "metadata": {
        "id": "P4H1lcp30Mgq",
        "outputId": "efe4ba2c-f963-4cb8-f90b-3c070bc5fc65",
        "colab": {
          "base_uri": "https://localhost:8080/"
        }
      },
      "outputs": [
        {
          "output_type": "stream",
          "name": "stdout",
          "text": [
            "Digite o primeiro número inteiro: 2\n",
            "Digite o segundo número inteiro: 3\n",
            "Digite o terceiro número inteiro: 1\n",
            "Ordem crescente: 1, 2 e 3\n"
          ]
        }
      ],
      "source": [
        "#Exercicio 11\n",
        "num1 = int(input(\"Digite o primeiro número inteiro: \"))\n",
        "num2 = int(input(\"Digite o segundo número inteiro: \"))\n",
        "num3 = int(input(\"Digite o terceiro número inteiro: \"))\n",
        "\n",
        "if num1 <= num2 and num2 <= num3:\n",
        "    print(\"Ordem crescente:\", f\"{num1}, {num2} e {num3}\")\n",
        "elif num1 <= num3 and num3 <= num2:\n",
        "    print(\"Ordem crescente:\", f\"{num1}, {num3} e {num2}\")\n",
        "elif num2 <= num1 and num1 <= num3:\n",
        "    print(\"Ordem crescente:\", f\"{num2}, {num1} e {num3}\")\n",
        "elif num2 <= num3 and num3 <= num1:\n",
        "    print(\"Ordem crescente:\", f\"{num2}, {num3} e {num1}\")\n",
        "elif num3 <= num1 and num1 <= num2:\n",
        "    print(\"Ordem crescente:\", f\"{num3}, {num1} e {num2}\")\n",
        "else:\n",
        "    print(\"Ordem crescente:\", f\"{num3}, {num2} e {num1}\")\n"
      ]
    },
    {
      "cell_type": "code",
      "execution_count": null,
      "metadata": {
        "id": "fSXOvrNv0Mgr",
        "outputId": "59a7d033-961d-4fbf-c4ce-6730da7a3804",
        "colab": {
          "base_uri": "https://localhost:8080/"
        }
      },
      "outputs": [
        {
          "output_type": "stream",
          "name": "stdout",
          "text": [
            "Digite a primeira letra: c\n",
            "Digite a segunda letra: b\n",
            "Digite a terceira letra: a\n",
            "Ordem crescente: a, b e c\n"
          ]
        }
      ],
      "source": [
        "#Exercicio 12\n",
        "num1 = str(input(\"Digite a primeira letra: \"))\n",
        "num2 = str(input(\"Digite a segunda letra: \"))\n",
        "num3 = str(input(\"Digite a terceira letra: \"))\n",
        "\n",
        "if num1 <= num2 and num2 <= num3:\n",
        "    print(\"Ordem crescente:\", f\"{num1}, {num2} e {num3}\")\n",
        "elif num1 <= num3 and num3 <= num2:\n",
        "    print(\"Ordem crescente:\", f\"{num1}, {num3} e {num2}\")\n",
        "elif num2 <= num1 and num1 <= num3:\n",
        "    print(\"Ordem crescente:\", f\"{num2}, {num1} e {num3}\")\n",
        "elif num2 <= num3 and num3 <= num1:\n",
        "    print(\"Ordem crescente:\", f\"{num2}, {num3} e {num1}\")\n",
        "elif num3 <= num1 and num1 <= num2:\n",
        "    print(\"Ordem crescente:\", f\"{num3}, {num1} e {num2}\")\n",
        "else:\n",
        "    print(\"Ordem crescente:\", f\"{num3}, {num2} e {num1}\")\n"
      ]
    },
    {
      "cell_type": "code",
      "execution_count": null,
      "metadata": {
        "id": "6eTegcZn0Mgr",
        "outputId": "fa1e2e56-46d6-43e8-dc77-d140fce1cfd3",
        "colab": {
          "base_uri": "https://localhost:8080/"
        }
      },
      "outputs": [
        {
          "output_type": "stream",
          "name": "stdout",
          "text": [
            "Você é homem ou mulher?:mulher\n",
            "Qual o seu peso?:65.5\n",
            "Qual a sua idade?:27\n",
            "Qual a sua altura em cm?:163\n",
            "Sua TMB é igual a 1456.76 calorias por dia.\n"
          ]
        }
      ],
      "source": [
        "#Exercicio 13\n",
        "usuario = input('Você é homem ou mulher?:')\n",
        "peso = float(input('Qual o seu peso?:'))\n",
        "idade = int(input('Qual a sua idade?:'))\n",
        "altura = int(input('Qual a sua altura em cm?:'))\n",
        "calculo_homem = 66.47 + (13.75 * peso) + (5.003 * altura) - (6.755 * idade)\n",
        "calculo_mulher = 655.09 + (9.563 * peso) + (1.85 * altura ) - (4.676 * idade)\n",
        "if usuario == 'homem':\n",
        "    print(f'Sua TMB é igual {calculo_homem:.2f}', 'calorias por dia.')\n",
        "elif usuario == 'mulher':\n",
        "    print(f'Sua TMB é igual a {calculo_mulher:.2f}', 'calorias por dia.')\n",
        "else:\n",
        "    print('Entrada inválida. Digite \"homem\" ou \"mulher\".')\n"
      ]
    },
    {
      "cell_type": "code",
      "execution_count": null,
      "metadata": {
        "id": "LMn8-ZB20Mgs",
        "outputId": "007b9f3c-a4f7-4ed5-b332-a50b711758bd",
        "colab": {
          "base_uri": "https://localhost:8080/"
        }
      },
      "outputs": [
        {
          "output_type": "stream",
          "name": "stdout",
          "text": [
            "Digite um numero para ver a sua tabuada:52\n",
            "52 x 1 = 52\n",
            "52 x 2 = 104\n",
            "52 x 3 = 156\n",
            "52 x 4 = 208\n",
            "52 x 5 = 260\n",
            "52 x 6 = 312\n",
            "52 x 7 = 364\n",
            "52 x 8 = 416\n",
            "52 x 9 = 468\n",
            "52 x 10 = 520\n"
          ]
        }
      ],
      "source": [
        "#Exercicio 14\n",
        "numero = int(input('Digite um numero para ver a sua tabuada:'))\n",
        "for i in range(1,11):\n",
        "    resultado = numero * i\n",
        "    print(numero,'x', i,'=', resultado)\n"
      ]
    }
  ],
  "metadata": {
    "colab": {
      "provenance": []
    },
    "kernelspec": {
      "display_name": "Python 3",
      "name": "python3"
    },
    "language_info": {
      "codemirror_mode": {
        "name": "ipython",
        "version": 3
      },
      "file_extension": ".py",
      "mimetype": "text/x-python",
      "name": "python",
      "nbconvert_exporter": "python",
      "pygments_lexer": "ipython3",
      "version": "3.13.2"
    }
  },
  "nbformat": 4,
  "nbformat_minor": 0
}