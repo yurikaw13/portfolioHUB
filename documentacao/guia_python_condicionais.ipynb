{
  "nbformat": 4,
  "nbformat_minor": 0,
  "metadata": {
    "colab": {
      "provenance": []
    },
    "kernelspec": {
      "name": "python3",
      "display_name": "Python 3"
    },
    "language_info": {
      "name": "python"
    }
  },
  "cells": [
    {
      "cell_type": "markdown",
      "source": [
        "### Desvios de fluxo no Python\n",
        "\n",
        "if  $→$ se  \n",
        "elif $→$ senão se  \n",
        "else $→$ senão  "
      ],
      "metadata": {
        "id": "PpQLPvQObBVn"
      }
    },
    {
      "cell_type": "code",
      "source": [],
      "metadata": {
        "id": "jAPWXxaqbHsT"
      },
      "execution_count": null,
      "outputs": []
    },
    {
      "cell_type": "code",
      "source": [
        "if True:\n",
        "    print(\"Sou verdadeiro!\")\n",
        "else:\n",
        "    print(\"Sou falso!\")"
      ],
      "metadata": {
        "id": "MLSweQyibAq3",
        "colab": {
          "base_uri": "https://localhost:8080/"
        },
        "outputId": "d6018646-58ea-4e76-a795-c9c504e9b138"
      },
      "execution_count": null,
      "outputs": [
        {
          "output_type": "stream",
          "name": "stdout",
          "text": [
            "Sou verdadeiro!\n"
          ]
        }
      ]
    },
    {
      "cell_type": "code",
      "source": [],
      "metadata": {
        "id": "YZvWmo0ybAnn"
      },
      "execution_count": null,
      "outputs": []
    },
    {
      "cell_type": "markdown",
      "source": [
        "### Valores lógicos\n",
        "\n",
        "True  $→$ Verdadeiro  \n",
        "False  $→$ Falso\n",
        "\n",
        "\n",
        "### Operadores relacionais\n",
        "    a. ==  igualdade\n",
        "    b. != diferente\n",
        "    c. > maior que\n",
        "    d. < menor que\n",
        "    e. >= maior ou igual\n",
        "    f. <= menor ou igual\n",
        "\n",
        "\n",
        "\n",
        "### Operadores lógicos\n",
        "\n",
        "    . OR   ou\n",
        "\n",
        "    . AND  e\n",
        "\n",
        "    . NOT  não\n",
        "\n",
        "\n",
        "\n"
      ],
      "metadata": {
        "id": "6KhNuWIZbPxb"
      }
    },
    {
      "cell_type": "code",
      "source": [
        "3 == 3, 3 > 2, 2 < 0, 12 != 9"
      ],
      "metadata": {
        "id": "inIUbNPTbAlE",
        "colab": {
          "base_uri": "https://localhost:8080/"
        },
        "outputId": "53c1361f-82b2-4111-8328-d6115df49c85"
      },
      "execution_count": null,
      "outputs": [
        {
          "output_type": "execute_result",
          "data": {
            "text/plain": [
              "(True, True, False, True)"
            ]
          },
          "metadata": {},
          "execution_count": 8
        }
      ]
    },
    {
      "cell_type": "markdown",
      "source": [
        "Faça um programa que peça a nota e a porcentagem de presença de um estudante. Se a nota for maior que 7 o estudante estará **aprovado**. Caso contrário, se a nota for maior ou igual a 6 sua presença precisará ser pelo menos 75% para a **aprovação**. O estudante estará **reprovado**  nos outros casos.\n"
      ],
      "metadata": {
        "id": "7rMg-I7pbGvE"
      }
    },
    {
      "cell_type": "code",
      "source": [
        "print('Digite sua nota: ')\n",
        "nota = input()\n",
        "\n",
        "print('Digita a sua porcentagem de presença: ')\n",
        "presenca = input()\n",
        "\n",
        "if nota > 7:\n",
        "    print(\"Aprovado!\")"
      ],
      "metadata": {
        "id": "m_zrzgeabAiP",
        "colab": {
          "base_uri": "https://localhost:8080/",
          "height": 263
        },
        "outputId": "693ede15-33ea-4e1d-a15a-0195bce0c0c5"
      },
      "execution_count": null,
      "outputs": [
        {
          "name": "stdout",
          "output_type": "stream",
          "text": [
            "Digite sua nota: \n",
            "83\n",
            "Digita a sua porcentagem de presença: \n",
            "100\n"
          ]
        },
        {
          "output_type": "error",
          "ename": "TypeError",
          "evalue": "'>' not supported between instances of 'str' and 'int'",
          "traceback": [
            "\u001b[0;31m---------------------------------------------------------------------------\u001b[0m",
            "\u001b[0;31mTypeError\u001b[0m                                 Traceback (most recent call last)",
            "\u001b[0;32m<ipython-input-11-fd8c41207605>\u001b[0m in \u001b[0;36m<cell line: 0>\u001b[0;34m()\u001b[0m\n\u001b[1;32m      5\u001b[0m \u001b[0mpresenca\u001b[0m \u001b[0;34m=\u001b[0m \u001b[0minput\u001b[0m\u001b[0;34m(\u001b[0m\u001b[0;34m)\u001b[0m\u001b[0;34m\u001b[0m\u001b[0;34m\u001b[0m\u001b[0m\n\u001b[1;32m      6\u001b[0m \u001b[0;34m\u001b[0m\u001b[0m\n\u001b[0;32m----> 7\u001b[0;31m \u001b[0;32mif\u001b[0m \u001b[0mnota\u001b[0m \u001b[0;34m>\u001b[0m \u001b[0;36m7\u001b[0m\u001b[0;34m:\u001b[0m\u001b[0;34m\u001b[0m\u001b[0;34m\u001b[0m\u001b[0m\n\u001b[0m\u001b[1;32m      8\u001b[0m     \u001b[0mprint\u001b[0m\u001b[0;34m(\u001b[0m\u001b[0;34m\"Aprovado!\"\u001b[0m\u001b[0;34m)\u001b[0m\u001b[0;34m\u001b[0m\u001b[0;34m\u001b[0m\u001b[0m\n",
            "\u001b[0;31mTypeError\u001b[0m: '>' not supported between instances of 'str' and 'int'"
          ]
        }
      ]
    },
    {
      "cell_type": "code",
      "source": [
        "print('Digite sua nota: ')\n",
        "nota = float(input())\n",
        "\n",
        "print('Digita a sua porcentagem de presença: ')\n",
        "presenca = float(input())\n",
        "\n",
        "if nota > 7:\n",
        "    print(\"Aprovado!\")\n",
        "else:\n",
        "    if nota >= 6:\n",
        "        if presenca >= 75:\n",
        "            print(\"Aprovado!\")\n",
        "        else:\n",
        "            print(\"Reprovado!\")\n",
        "    else:\n",
        "        print(\"Reprovado!\")\n"
      ],
      "metadata": {
        "id": "T0o4WKSKbAfJ",
        "colab": {
          "base_uri": "https://localhost:8080/"
        },
        "outputId": "4c45e537-9d06-4fd1-fcc9-62a19a702af0"
      },
      "execution_count": null,
      "outputs": [
        {
          "output_type": "stream",
          "name": "stdout",
          "text": [
            "Digite sua nota: \n",
            "9\n",
            "Digita a sua porcentagem de presença: \n",
            "0\n",
            "Aprovado!\n",
            "Acabei o código.\n"
          ]
        }
      ]
    },
    {
      "cell_type": "code",
      "source": [
        "# Ensino infantil - até 6 anos\n",
        "# Fundamental I - até 11 anos\n",
        "# Fundamental II - até 15 anos\n",
        "# Médio - até 18 anos\n",
        "# Superior - acima de 18 anos\n",
        "print(\"Idade: \")\n",
        "idade = int(input())\n",
        "\n",
        "if idade <= 6:\n",
        "    print(\"Ensino Infantil\")\n",
        "else:\n",
        "    if idade <= 11:\n",
        "        print(\"Fundamental I\")\n",
        "    else:\n",
        "        if idade <= 15:\n",
        "            print(\"Fundamental II\")\n",
        "        else:\n",
        "            if idade <= 18:\n",
        "                print(\"Ensino Médio\")\n",
        "            else:\n",
        "                print(\"Ensino Superior\")"
      ],
      "metadata": {
        "colab": {
          "base_uri": "https://localhost:8080/"
        },
        "id": "hKOqnNcQmnlq",
        "outputId": "63a7c187-def9-4f8d-98c2-f1f31a8f6043"
      },
      "execution_count": null,
      "outputs": [
        {
          "output_type": "stream",
          "name": "stdout",
          "text": [
            "Idade: \n",
            "25\n",
            "Ensino Superior\n"
          ]
        }
      ]
    },
    {
      "cell_type": "code",
      "source": [
        "if idade <= 6:\n",
        "    print(\"Ensino Infantil\")\n",
        "elif idade <= 11:\n",
        "    print(\"Fundamental I\")\n",
        "elif idade <= 15:\n",
        "    print(\"Fundamental II\")\n",
        "elif idade <= 18:\n",
        "    print(\"Ensino Médio\")\n",
        "else:\n",
        "    print(\"Ensino Superior\")"
      ],
      "metadata": {
        "id": "YozirWormniA"
      },
      "execution_count": null,
      "outputs": []
    },
    {
      "cell_type": "code",
      "source": [
        "# Melhoria: uso do elif\n",
        "\n",
        "print('Digite sua nota: ')\n",
        "nota = float(input())\n",
        "\n",
        "print('Digita a sua porcentagem de presença: ')\n",
        "presenca = float(input())\n",
        "\n",
        "if nota > 7:\n",
        "    print(\"Aprovado!\")\n",
        "elif nota >= 6:\n",
        "    if presenca >= 75:\n",
        "        print(\"Aprovado!\")\n",
        "    else:\n",
        "        print(\"Reprovado!\")\n",
        "else:\n",
        "    print(\"Reprovado!\")\n",
        "\n",
        "\n",
        "print(\"Acabei o código.\")"
      ],
      "metadata": {
        "id": "kyKcEgdMmndx"
      },
      "execution_count": null,
      "outputs": []
    },
    {
      "cell_type": "code",
      "source": [
        "## Operadores lógicos\n",
        "\n",
        "# not\n",
        "not True, not False"
      ],
      "metadata": {
        "colab": {
          "base_uri": "https://localhost:8080/"
        },
        "id": "BZD9wgGhmna7",
        "outputId": "cbeddb5b-d322-43fb-dd5c-1ea13196cf85"
      },
      "execution_count": null,
      "outputs": [
        {
          "output_type": "execute_result",
          "data": {
            "text/plain": [
              "(False, True)"
            ]
          },
          "metadata": {},
          "execution_count": 31
        }
      ]
    },
    {
      "cell_type": "code",
      "source": [
        "# and\n",
        "\n",
        "# Tabela-verdade: and\n",
        "\n",
        "print(f'{True}  {True}  {True and True}')\n",
        "print(f'{True}  {False} {True and False}')\n",
        "print(f'{False} {True}  {False and True}')\n",
        "print(f'{False} {False} {False and False}')"
      ],
      "metadata": {
        "colab": {
          "base_uri": "https://localhost:8080/"
        },
        "id": "kX5SUqfgmnXy",
        "outputId": "ea386304-f4b2-4b99-d4df-029d03f6694b"
      },
      "execution_count": null,
      "outputs": [
        {
          "output_type": "stream",
          "name": "stdout",
          "text": [
            "True  True  True\n",
            "True  False False\n",
            "False True  False\n",
            "False False False\n"
          ]
        }
      ]
    },
    {
      "cell_type": "code",
      "source": [
        "# Tabela-verdade: or\n",
        "\n",
        "print(f'{True}  {True}  {True or True}')\n",
        "print(f'{True}  {False} {True or False}')\n",
        "print(f'{False} {True}  {False or True}')\n",
        "print(f'{False} {False} {False or False}')"
      ],
      "metadata": {
        "colab": {
          "base_uri": "https://localhost:8080/"
        },
        "id": "Yb20d7afmnUa",
        "outputId": "89fc52b0-f335-4829-ac89-2787597a5962"
      },
      "execution_count": null,
      "outputs": [
        {
          "output_type": "stream",
          "name": "stdout",
          "text": [
            "True  True  True\n",
            "True  False True\n",
            "False True  True\n",
            "False False False\n"
          ]
        }
      ]
    },
    {
      "cell_type": "code",
      "source": [
        "# Melhoria: utilizando o and\n",
        "\n",
        "print('Digite sua nota: ')\n",
        "nota = float(input())\n",
        "\n",
        "print('Digita a sua porcentagem de presença: ')\n",
        "presenca = float(input())\n",
        "\n",
        "if nota > 7:\n",
        "    print(\"Aprovado!\")\n",
        "elif nota >= 6 and presenca >= 75:\n",
        "    print(\"Aprovado!\")\n",
        "else:\n",
        "    print(\"Reprovado!\")\n",
        "\n",
        "\n",
        "\n",
        "print(\"Acabei o código.\")"
      ],
      "metadata": {
        "id": "SltA5qFZbAci"
      },
      "execution_count": null,
      "outputs": []
    },
    {
      "cell_type": "code",
      "source": [
        "# Melhoria: utilizando o or\n",
        "\n",
        "print('Digite sua nota: ')\n",
        "nota = float(input())\n",
        "\n",
        "print('Digita a sua porcentagem de presença: ')\n",
        "presenca = float(input())\n",
        "\n",
        "if nota > 7 or nota >= 6 and presenca >= 75:\n",
        "    print(\"Aprovado!\")\n",
        "else:\n",
        "    print(\"Reprovado!\")\n",
        "\n",
        "\n",
        "\n",
        "print(\"Acabei o código.\")"
      ],
      "metadata": {
        "id": "A8fCIi2MbAZn"
      },
      "execution_count": null,
      "outputs": []
    },
    {
      "cell_type": "code",
      "source": [
        "# Operadores de curto circuito\n",
        "True or 1/0, False and 1/0"
      ],
      "metadata": {
        "colab": {
          "base_uri": "https://localhost:8080/"
        },
        "id": "B438fSDrwG0X",
        "outputId": "193cc295-cdae-427d-bf02-fbbfd01b0e1c"
      },
      "execution_count": null,
      "outputs": [
        {
          "output_type": "execute_result",
          "data": {
            "text/plain": [
              "(True, False)"
            ]
          },
          "metadata": {},
          "execution_count": 40
        }
      ]
    },
    {
      "cell_type": "code",
      "source": [
        "# Operadores de curto circuito\n",
        "1/0 or True"
      ],
      "metadata": {
        "colab": {
          "base_uri": "https://localhost:8080/",
          "height": 141
        },
        "id": "1D5ZPKHwvjbF",
        "outputId": "dfc3a8cd-33ab-402e-aedd-faeafa42e953"
      },
      "execution_count": null,
      "outputs": [
        {
          "output_type": "error",
          "ename": "ZeroDivisionError",
          "evalue": "division by zero",
          "traceback": [
            "\u001b[0;31m---------------------------------------------------------------------------\u001b[0m",
            "\u001b[0;31mZeroDivisionError\u001b[0m                         Traceback (most recent call last)",
            "\u001b[0;32m<ipython-input-38-962cfa768e45>\u001b[0m in \u001b[0;36m<cell line: 0>\u001b[0;34m()\u001b[0m\n\u001b[0;32m----> 1\u001b[0;31m \u001b[0;36m1\u001b[0m\u001b[0;34m/\u001b[0m\u001b[0;36m0\u001b[0m \u001b[0;32mor\u001b[0m \u001b[0;32mTrue\u001b[0m\u001b[0;34m\u001b[0m\u001b[0;34m\u001b[0m\u001b[0m\n\u001b[0m",
            "\u001b[0;31mZeroDivisionError\u001b[0m: division by zero"
          ]
        }
      ]
    },
    {
      "cell_type": "code",
      "source": [
        "# Melhoria: texto no input (versão final)\n",
        "\n",
        "nota = float(input('Digite sua nota: '))\n",
        "\n",
        "presenca = float(input('Digita a sua porcentagem de presença: '))\n",
        "\n",
        "if nota > 7 or nota >= 6 and presenca >= 75:\n",
        "    print(\"Aprovado!\")\n",
        "else:\n",
        "    print(\"Reprovado!\")\n",
        "\n"
      ],
      "metadata": {
        "id": "KoKIEyjcvjYV",
        "colab": {
          "base_uri": "https://localhost:8080/"
        },
        "outputId": "0d17356c-6c53-4900-d7b2-b8f5effb5b15"
      },
      "execution_count": null,
      "outputs": [
        {
          "output_type": "stream",
          "name": "stdout",
          "text": [
            "Digite sua nota: 7\n",
            "Digita a sua porcentagem de presença: 74\n",
            "Reprovado!\n"
          ]
        }
      ]
    },
    {
      "cell_type": "markdown",
      "source": [
        "Peça um número inteiro ao usuário e mostre se esse número é par ou ímpar."
      ],
      "metadata": {
        "id": "V4fu-ZrT20DS"
      }
    },
    {
      "cell_type": "code",
      "source": [
        "numero = int(input(\"Digite um número inteiro: \"))\n",
        "\n",
        "resto = numero % 2\n",
        "\n",
        "if resto == 0:\n",
        "    print('PAR')\n",
        "else:\n",
        "    print('ÍMPAR')"
      ],
      "metadata": {
        "id": "73ImEAxvvjVW",
        "colab": {
          "base_uri": "https://localhost:8080/"
        },
        "outputId": "fdefced5-9bf6-4708-c871-6d796f8ff254"
      },
      "execution_count": null,
      "outputs": [
        {
          "output_type": "stream",
          "name": "stdout",
          "text": [
            "Digite um número inteiro: 45\n",
            "ÍMPAR\n"
          ]
        }
      ]
    },
    {
      "cell_type": "markdown",
      "source": [
        "1. Faça um programa que mostre o seu primeiro nome na tela.\n",
        "\n",
        "\n",
        "2. Faça um programa que pede o primeiro nome do usuário e um sobrenome e mostra os dois nomes digitados na tela.\n",
        "\n",
        "3. Faça um programa que mostra um X bem grande na tela, utilizando o print (um ou mais vezes). Obs.: esse X deverá ter, pelo menos altura de 7 caracteres. Desafio: fazer essa tarefa em um único print.\n",
        "\n",
        "4. Faça um programa que pede o dia e mês de aniversário e diz quantos dias faltam para o aniversário, quantos dias se passaram do aniversário ou se hoje é o aniversário do usuário."
      ],
      "metadata": {
        "id": "l5jEQeY719pD"
      }
    },
    {
      "cell_type": "code",
      "source": [
        "# 1\n",
        "print('Yuri')"
      ],
      "metadata": {
        "colab": {
          "base_uri": "https://localhost:8080/"
        },
        "id": "zclQ5_AuyxKZ",
        "outputId": "389e8fc8-19f7-44c9-c099-97e07660841f"
      },
      "execution_count": null,
      "outputs": [
        {
          "output_type": "stream",
          "name": "stdout",
          "text": [
            "Yuri\n"
          ]
        }
      ]
    },
    {
      "cell_type": "code",
      "source": [
        "# 2\n",
        "print('Digite seu primeiro nome e um sobrenome:')\n",
        "nome = str(input())\n",
        "\n",
        "print('Olá!', nome)"
      ],
      "metadata": {
        "id": "6Weybjkr18pG",
        "colab": {
          "base_uri": "https://localhost:8080/"
        },
        "outputId": "7247e3e3-ba4a-4219-acbd-c68898ae87c1"
      },
      "execution_count": null,
      "outputs": [
        {
          "output_type": "stream",
          "name": "stdout",
          "text": [
            "Digite seu primeiro nome e um sobrenome:\n",
            "João Silva\n",
            "Olá! João Silva\n"
          ]
        }
      ]
    },
    {
      "cell_type": "code",
      "source": [
        "# 3\n",
        "print('\\\\      /')\n",
        "print(' \\\\    /')\n",
        "print(\"  \\\\  /\")\n",
        "print(\"   \\\\/\")\n",
        "print('   /\\\\')\n",
        "print('  /  \\\\')\n",
        "print(' /    \\\\')\n",
        "print('/      \\\\')"
      ],
      "metadata": {
        "colab": {
          "base_uri": "https://localhost:8080/"
        },
        "id": "63acv2BWylwK",
        "outputId": "fb2688e0-15bd-4037-f697-8febb1348958"
      },
      "execution_count": null,
      "outputs": [
        {
          "output_type": "stream",
          "name": "stdout",
          "text": [
            "\\      /\n",
            " \\    /\n",
            "  \\  /\n",
            "   \\/\n",
            "   /\\\n",
            "  /  \\\n",
            " /    \\\n",
            "/      \\\n"
          ]
        }
      ]
    },
    {
      "cell_type": "code",
      "source": [
        "# 3\n",
        "print('\\\\      /\\n \\\\    /\\n  \\\\  /\\n   \\/\\n   /\\\\\\n  /  \\\\\\n /    \\\\\\n/      \\\\')"
      ],
      "metadata": {
        "colab": {
          "base_uri": "https://localhost:8080/"
        },
        "id": "uFaZcQgmy8Xq",
        "outputId": "c45d45e6-c434-4f4f-d06c-4b224d91b56c"
      },
      "execution_count": null,
      "outputs": [
        {
          "output_type": "stream",
          "name": "stdout",
          "text": [
            "\\      /\n",
            " \\    /\n",
            "  \\  /\n",
            "   \\/\n",
            "   /\\\n",
            "  /  \\\n",
            " /    \\\n",
            "/      \\\n"
          ]
        }
      ]
    },
    {
      "cell_type": "code",
      "source": [
        "# 4 Dia 02/04/2025\n",
        "dia = int(input('Digite o dia de seu aniversário: '))\n",
        "mes = int(input('Digite o mês de seu aniversário: '))\n",
        "m = 'm'\n",
        "s = 's'\n",
        "\n",
        "\n",
        "if mes == 1:\n",
        "    diff_dias = 60 + 32 - dia\n",
        "    print(f\"Passaram {diff_dias} dias de seu aniversário!\")\n",
        "\n",
        "elif mes == 2:\n",
        "    diff_dias = 32 + 29 - dia\n",
        "    print(f\"Passaram {diff_dias} dias de seu aniversário!\")\n",
        "\n",
        "elif mes == 3:\n",
        "    diff_dias = 33 - dia\n",
        "    print(f\"Passaram {diff_dias} dias de seu aniversário!\")\n",
        "\n",
        "elif mes == 4:\n",
        "    diff_dias = dia - 2\n",
        "    if diff_dias == 1:\n",
        "        m = ''\n",
        "        s = ''\n",
        "    if diff_dias == 0:\n",
        "        print(\"Feliz aniversário!\")\n",
        "    elif diff_dias > 0:\n",
        "        print(f\"Falta{m} {diff_dias} dia{s} para seu aniversário!\")\n",
        "    else:\n",
        "        print(f\"Passou {-1 * diff_dias} dia de seu aniversário!\")\n",
        "\n",
        "elif mes == 5:\n",
        "    dias_faltantes = 28 + dia\n",
        "    print(f'Faltam {dias_faltantes} dias para seu aniversário!')\n",
        "\n",
        "elif mes == 6:\n",
        "    dias_faltantes = 59 + dia  # 28(abril) + 31(maio) = 59\n",
        "    print(f'Faltam {dias_faltantes} dias para seu aniversário!')\n",
        "\n",
        "elif mes == 7:\n",
        "    dias_faltantes = 89 + dia  # 28(abril) + 31(maio)  + 30(junho)= 89\n",
        "    print(f'Faltam {dias_faltantes} dias para seu aniversário!')\n",
        "elif mes == 8:\n",
        "    dias_faltantes = 120 + dia  # 28(abril) + 31(maio)  + 30(junho) + 31(julho)= 120\n",
        "    print(f'Faltam {dias_faltantes} dias para seu aniversário!')\n",
        "\n",
        "elif mes == 9:\n",
        "    dias_faltantes = 151 + dia\n",
        "    print(f'Faltam {dias_faltantes} dias para seu aniversário!')\n",
        "\n",
        "elif mes == 10:\n",
        "    dias_faltantes = 181 + dia\n",
        "    print(f'Faltam {dias_faltantes} dias para seu aniversário!')\n",
        "elif mes == 11:\n",
        "    dias_faltantes = 212 + dia\n",
        "    print(f'Faltam {dias_faltantes} dias para seu aniversário!')\n",
        "\n",
        "elif mes == 12:\n",
        "    dias_faltantes = 242 + dia\n",
        "    print(f'Faltam {dias_faltantes} dias para seu aniversário!')\n",
        "\n",
        "else:\n",
        "    print(\"Mês inválido\")"
      ],
      "metadata": {
        "colab": {
          "base_uri": "https://localhost:8080/"
        },
        "id": "aalAtjZVzBlZ",
        "outputId": "a33178e5-b5e6-4fcb-af5b-3136efd29e8b"
      },
      "execution_count": null,
      "outputs": [
        {
          "output_type": "stream",
          "name": "stdout",
          "text": [
            "Digite o dia de seu aniversário: 05\n",
            "Digite o mês de seu aniversário: 12\n",
            "Faltam 247 dias para seu aniversário!\n"
          ]
        }
      ]
    },
    {
      "cell_type": "code",
      "source": [],
      "metadata": {
        "id": "XCEFjMh7zlAV"
      },
      "execution_count": null,
      "outputs": []
    }
  ]
}