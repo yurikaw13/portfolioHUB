{
  "nbformat": 4,
  "nbformat_minor": 0,
  "metadata": {
    "colab": {
      "provenance": []
    },
    "kernelspec": {
      "name": "python3",
      "display_name": "Python 3"
    },
    "language_info": {
      "name": "python"
    }
  },
  "cells": [
    {
      "cell_type": "code",
      "execution_count": null,
      "metadata": {
        "colab": {
          "base_uri": "https://localhost:8080/"
        },
        "id": "00fkDJcPbP6r",
        "outputId": "987c7fd0-9a14-436f-cf4e-b5fd82598b1f"
      },
      "outputs": [
        {
          "output_type": "stream",
          "name": "stdout",
          "text": [
            "Hello, World!!\n"
          ]
        }
      ],
      "source": [
        "# Saída de dados (na tela)\n",
        "print(\"Hello, World!!\")"
      ]
    },
    {
      "cell_type": "markdown",
      "source": [
        "### Tipos de dados\n",
        "\n",
        " - Inteiros   $→$ int\n",
        " - Reais      $→$ float\n",
        " - Booleano   $→$ bool\n",
        " - Texto(string) $→$ str"
      ],
      "metadata": {
        "id": "jtWVuZJ-ea_o"
      }
    },
    {
      "cell_type": "code",
      "source": [
        "# Criando variáveis\n",
        "numero = 23\n",
        "real = 3.14\n",
        "teste = True # False\n",
        "texto = \"Sou uma string\""
      ],
      "metadata": {
        "id": "2wQXiwUZb8-F"
      },
      "execution_count": null,
      "outputs": []
    },
    {
      "cell_type": "code",
      "source": [
        "# Tipos de comentários: de linha e de bloco\n",
        "\n",
        "# Comentário de linha\n",
        "'''\n",
        "  Comentário\n",
        "  de\n",
        "  bloco\n",
        "''';\n",
        "\n",
        "\"\"\"\n",
        "Vale\n",
        "com\n",
        "aspas duplas\n",
        "\"\"\";\n"
      ],
      "metadata": {
        "id": "a8RRvWWXb86V"
      },
      "execution_count": null,
      "outputs": []
    },
    {
      "cell_type": "code",
      "source": [
        "print(numero)\n",
        "real"
      ],
      "metadata": {
        "colab": {
          "base_uri": "https://localhost:8080/"
        },
        "id": "YhrL3QjVb80l",
        "outputId": "cdff1358-fcd6-407e-cddb-7c3b0765a73a"
      },
      "execution_count": null,
      "outputs": [
        {
          "output_type": "stream",
          "name": "stdout",
          "text": [
            "23\n"
          ]
        },
        {
          "output_type": "execute_result",
          "data": {
            "text/plain": [
              "3.14"
            ]
          },
          "metadata": {},
          "execution_count": 11
        }
      ]
    },
    {
      "cell_type": "code",
      "source": [
        "# Tipagem dinâmica\n",
        "numero = 23\n",
        "print(numero)\n",
        "numero = 3.14\n",
        "print(numero)\n",
        "numero = False\n",
        "print(numero)\n",
        "numero = \"Texto...\"\n",
        "print(numero)\n",
        "\n"
      ],
      "metadata": {
        "colab": {
          "base_uri": "https://localhost:8080/"
        },
        "id": "CmZ8v_qXb8x9",
        "outputId": "61fedcb3-d7b7-41c1-83fb-ae26bf1d27f2"
      },
      "execution_count": null,
      "outputs": [
        {
          "output_type": "stream",
          "name": "stdout",
          "text": [
            "23\n",
            "3.14\n",
            "False\n",
            "Texto...\n"
          ]
        }
      ]
    },
    {
      "cell_type": "code",
      "source": [
        "# Verificando o tipo de uma variável: type()\n",
        "numero = 23\n",
        "print(numero, type(numero))\n",
        "numero = 3.14\n",
        "print(numero, type(numero))\n",
        "numero = False\n",
        "print(numero, type(numero))\n",
        "numero = \"Texto...\"\n",
        "print(numero, type(numero))\n"
      ],
      "metadata": {
        "colab": {
          "base_uri": "https://localhost:8080/"
        },
        "id": "dR7M1EbUhnd_",
        "outputId": "996115a2-2e41-4639-8e85-f81f6c89c8ba"
      },
      "execution_count": null,
      "outputs": [
        {
          "output_type": "stream",
          "name": "stdout",
          "text": [
            "23 <class 'int'>\n",
            "3.14 <class 'float'>\n",
            "False <class 'bool'>\n",
            "Texto... <class 'str'>\n"
          ]
        }
      ]
    },
    {
      "cell_type": "code",
      "source": [
        "# Entrada manual de dados: input()\n",
        "\n",
        "# Fluxograma 2\n",
        "print(\"Digite um número: \")\n",
        "numero = input()\n",
        "print(\"O número digitado foi:\", numero)"
      ],
      "metadata": {
        "colab": {
          "base_uri": "https://localhost:8080/"
        },
        "id": "Zg23DMxxhnbg",
        "outputId": "9e4be228-a8df-4b47-c18a-7025ff14ef4f"
      },
      "execution_count": null,
      "outputs": [
        {
          "output_type": "stream",
          "name": "stdout",
          "text": [
            "Digite um número: \n",
            "78\n",
            "O número digitado foi: 78\n"
          ]
        }
      ]
    },
    {
      "cell_type": "code",
      "source": [
        "# Fluxograma 2 (em 2 linhas)\n",
        "numero = input(\"Digite um número: \")\n",
        "print(\"O número digitado foi:\", numero)"
      ],
      "metadata": {
        "colab": {
          "base_uri": "https://localhost:8080/"
        },
        "id": "kEjiyRDghnX4",
        "outputId": "37c3eaac-30f3-474c-eee6-d4ead4f429d6"
      },
      "execution_count": null,
      "outputs": [
        {
          "output_type": "stream",
          "name": "stdout",
          "text": [
            "Digite um número: 789\n",
            "O número digitado foi: 789\n"
          ]
        }
      ]
    },
    {
      "cell_type": "code",
      "source": [
        "# Fluxograma 2 (em 1 linha)\n",
        "print(\"O número digitado foi:\", input(\"Digite um número: \"))\n"
      ],
      "metadata": {
        "colab": {
          "base_uri": "https://localhost:8080/"
        },
        "id": "RaPJvwXkb8u1",
        "outputId": "7aaff7a0-09ea-4fb1-9878-ca13f570a743"
      },
      "execution_count": null,
      "outputs": [
        {
          "output_type": "stream",
          "name": "stdout",
          "text": [
            "Digite um número: 23\n",
            "O número digitado foi: 23\n"
          ]
        }
      ]
    },
    {
      "cell_type": "markdown",
      "source": [
        " ## Operações aritméticas\n",
        "\n",
        " - '+'   $→$  Adição\n",
        " - '-'   $→$  Subtração\n",
        " - '*'   $→$  Multiplicação\n",
        " - '/'   $→$  Divisão\n",
        " - '//'  $→$  Divisão inteira\n",
        " - '%'   $→$  Resto da divisão inteira\n",
        " - '**'  $→$  Exponenciação"
      ],
      "metadata": {
        "id": "T2R51HSomsPS"
      }
    },
    {
      "cell_type": "code",
      "source": [
        "# Operações aritméticas\n",
        "x = 2\n",
        "y = 3\n",
        "\n",
        "print(x,\"+\" ,y, \"=\", x + y)  # 5\n",
        "print(x,\"-\" ,y, \"=\", x - y)  # 1\n",
        "print(x,\"*\" ,y, \"=\", x * y)  # 6\n",
        "print(x,\"/\" ,y, \"=\", x / y)  # 1.5\n",
        "print(x,\"//\" ,y, \"=\", x // y) # 1\n",
        "print(x,\"%\" ,y, \"=\", x % y)   # 1\n",
        "print(y,\"//\" ,x, \"=\", y // x) # 0\n",
        "print(y,\"%\" ,x, \"=\", y % x)   # 0\n",
        "print(x,\"**\" ,y, \"=\", x ** y) # 8"
      ],
      "metadata": {
        "colab": {
          "base_uri": "https://localhost:8080/"
        },
        "id": "fzCs4rrzlsAB",
        "outputId": "af80729a-5929-49fa-8c0a-7ca4ca8e49a0"
      },
      "execution_count": null,
      "outputs": [
        {
          "output_type": "stream",
          "name": "stdout",
          "text": [
            "2 + 3 = 5\n",
            "2 - 3 = -1\n",
            "2 * 3 = 6\n",
            "2 / 3 = 0.6666666666666666\n",
            "2 // 3 = 0\n",
            "2 % 3 = 2\n",
            "3 // 2 = 1\n",
            "3 % 2 = 1\n",
            "2 ** 3 = 8\n"
          ]
        }
      ]
    },
    {
      "cell_type": "code",
      "source": [
        "# Fluxograma 3\n",
        "ano = input(\"Digite o ano de seu nascimento: \")\n",
        "idade = 2025 - ano\n",
        "print('Sua idade no fim de 2025 será', ano, 'anos.' )"
      ],
      "metadata": {
        "colab": {
          "base_uri": "https://localhost:8080/",
          "height": 220
        },
        "id": "CwWU1_J6pY9M",
        "outputId": "949d9fd6-f279-4586-e29f-54730ad38dc0"
      },
      "execution_count": null,
      "outputs": [
        {
          "name": "stdout",
          "output_type": "stream",
          "text": [
            "Digite o ano de seu nascimento: 2000\n"
          ]
        },
        {
          "output_type": "error",
          "ename": "TypeError",
          "evalue": "unsupported operand type(s) for -: 'int' and 'str'",
          "traceback": [
            "\u001b[0;31m---------------------------------------------------------------------------\u001b[0m",
            "\u001b[0;31mTypeError\u001b[0m                                 Traceback (most recent call last)",
            "\u001b[0;32m<ipython-input-31-c0754bf81df2>\u001b[0m in \u001b[0;36m<cell line: 0>\u001b[0;34m()\u001b[0m\n\u001b[1;32m      1\u001b[0m \u001b[0;31m# Fluxograma 3\u001b[0m\u001b[0;34m\u001b[0m\u001b[0;34m\u001b[0m\u001b[0m\n\u001b[1;32m      2\u001b[0m \u001b[0mano\u001b[0m \u001b[0;34m=\u001b[0m \u001b[0minput\u001b[0m\u001b[0;34m(\u001b[0m\u001b[0;34m\"Digite o ano de seu nascimento: \"\u001b[0m\u001b[0;34m)\u001b[0m\u001b[0;34m\u001b[0m\u001b[0;34m\u001b[0m\u001b[0m\n\u001b[0;32m----> 3\u001b[0;31m \u001b[0midade\u001b[0m \u001b[0;34m=\u001b[0m \u001b[0;36m2025\u001b[0m \u001b[0;34m-\u001b[0m \u001b[0mano\u001b[0m\u001b[0;34m\u001b[0m\u001b[0;34m\u001b[0m\u001b[0m\n\u001b[0m\u001b[1;32m      4\u001b[0m \u001b[0mprint\u001b[0m\u001b[0;34m(\u001b[0m\u001b[0;34m'Sua idade no fim de 2025 será'\u001b[0m\u001b[0;34m,\u001b[0m \u001b[0mano\u001b[0m\u001b[0;34m,\u001b[0m \u001b[0;34m'anos.'\u001b[0m \u001b[0;34m)\u001b[0m\u001b[0;34m\u001b[0m\u001b[0;34m\u001b[0m\u001b[0m\n",
            "\u001b[0;31mTypeError\u001b[0m: unsupported operand type(s) for -: 'int' and 'str'"
          ]
        }
      ]
    },
    {
      "cell_type": "code",
      "source": [
        "# Cast/Casting\n",
        "\n",
        "int(\"26\") # string para inteiro\n"
      ],
      "metadata": {
        "colab": {
          "base_uri": "https://localhost:8080/"
        },
        "id": "cWypO2tQpY5b",
        "outputId": "8ff592d6-de16-4f1e-89c5-2500ac38febb"
      },
      "execution_count": null,
      "outputs": [
        {
          "output_type": "execute_result",
          "data": {
            "text/plain": [
              "26"
            ]
          },
          "metadata": {},
          "execution_count": 34
        }
      ]
    },
    {
      "cell_type": "code",
      "source": [
        "# Nem sempre é possível fazer o cast\n",
        "\n",
        "int(\"casa\")"
      ],
      "metadata": {
        "colab": {
          "base_uri": "https://localhost:8080/",
          "height": 183
        },
        "id": "OdUf-Uh9pY2D",
        "outputId": "beabe0f6-3440-4989-a46d-1c9a14c19f7e"
      },
      "execution_count": null,
      "outputs": [
        {
          "output_type": "error",
          "ename": "ValueError",
          "evalue": "invalid literal for int() with base 10: 'casa'",
          "traceback": [
            "\u001b[0;31m---------------------------------------------------------------------------\u001b[0m",
            "\u001b[0;31mValueError\u001b[0m                                Traceback (most recent call last)",
            "\u001b[0;32m<ipython-input-35-fda8d72ef333>\u001b[0m in \u001b[0;36m<cell line: 0>\u001b[0;34m()\u001b[0m\n\u001b[1;32m      1\u001b[0m \u001b[0;31m# Nem sempre é possível fazer o cast\u001b[0m\u001b[0;34m\u001b[0m\u001b[0;34m\u001b[0m\u001b[0m\n\u001b[1;32m      2\u001b[0m \u001b[0;34m\u001b[0m\u001b[0m\n\u001b[0;32m----> 3\u001b[0;31m \u001b[0mint\u001b[0m\u001b[0;34m(\u001b[0m\u001b[0;34m\"casa\"\u001b[0m\u001b[0;34m)\u001b[0m\u001b[0;34m\u001b[0m\u001b[0;34m\u001b[0m\u001b[0m\n\u001b[0m",
            "\u001b[0;31mValueError\u001b[0m: invalid literal for int() with base 10: 'casa'"
          ]
        }
      ]
    },
    {
      "cell_type": "code",
      "source": [
        "# Fluxograma 3\n",
        "ano = input(\"Digite o ano de seu nascimento: \")\n",
        "idade = 2025 - int(ano)\n",
        "print('Sua idade no fim de 2025 será', idade, 'anos.' )"
      ],
      "metadata": {
        "colab": {
          "base_uri": "https://localhost:8080/"
        },
        "id": "nzuXgjlulr9h",
        "outputId": "16c1f099-2e4b-4a0a-bce3-354b54406986"
      },
      "execution_count": null,
      "outputs": [
        {
          "output_type": "stream",
          "name": "stdout",
          "text": [
            "Digite o ano de seu nascimento: 2000\n",
            "Sua idade no fim de 2025 será 25 anos.\n"
          ]
        }
      ]
    },
    {
      "cell_type": "code",
      "source": [
        "# Explorando a função print\n",
        "\"Quem nasceu em 2000 terá 25 anos.\"\n",
        "print('Quem nasceu em', ano, 'terá', idade, 'anos.')\n",
        "print('Quem nasceu em ' + ano + ' terá '+str(idade)+' anos.') # Java style\n",
        "print(\"Quem nasceu em {} terá {} anos.\".format(ano, idade)) # Old Python\n",
        "print(f'Quem nasceu em {ano} terá {idade} anos.') # Atual\n"
      ],
      "metadata": {
        "colab": {
          "base_uri": "https://localhost:8080/"
        },
        "id": "Tj5r27D_lr6h",
        "outputId": "0b7e450c-e9b8-4d8b-b578-21a5b32d0c95"
      },
      "execution_count": null,
      "outputs": [
        {
          "output_type": "stream",
          "name": "stdout",
          "text": [
            "Quem nasceu em 2000 terá 25 anos.\n",
            "Quem nasceu em 2000 terá 25 anos.\n",
            "Quem nasceu em 2000 terá 25 anos.\n",
            "Quem nasceu em 2000 terá 25 anos.\n"
          ]
        }
      ]
    },
    {
      "cell_type": "code",
      "source": [
        "# Calculando o IMC\n",
        "peso = float(input('Digite o seu \"peso\" (kg): '))\n",
        "altura = float(input('Digite sua altura (em m): '))\n",
        "\n",
        "imc = peso / altura**2\n"
      ],
      "metadata": {
        "colab": {
          "base_uri": "https://localhost:8080/"
        },
        "id": "5vKY0cIKzicH",
        "outputId": "65ab493f-c58f-44ee-e2bd-f1f3ee04abe1"
      },
      "execution_count": null,
      "outputs": [
        {
          "output_type": "stream",
          "name": "stdout",
          "text": [
            "Digite o seu \"peso\" (kg): 70\n",
            "Digite sua altura (em m): 1.7\n",
            "O seu imc vale 24.22.\n"
          ]
        }
      ]
    },
    {
      "cell_type": "code",
      "source": [
        "\n",
        "print(f'O seu imc vale {imc:.2f}')"
      ],
      "metadata": {
        "colab": {
          "base_uri": "https://localhost:8080/"
        },
        "id": "zT0r3TOrziZe",
        "outputId": "52dd2f22-eb2c-4085-978e-1956bbfcc56c"
      },
      "execution_count": null,
      "outputs": [
        {
          "output_type": "stream",
          "name": "stdout",
          "text": [
            "O seu imc vale 24.22\n"
          ]
        }
      ]
    },
    {
      "cell_type": "code",
      "source": [
        "x = 2.5\n",
        "y = 3.5\n",
        "print(f'x = {x:.0f}')\n",
        "print(f'y = {y:.0f}')"
      ],
      "metadata": {
        "colab": {
          "base_uri": "https://localhost:8080/"
        },
        "id": "6kqUy8iSziVv",
        "outputId": "9f25c842-4996-4073-a771-39f7db88dd11"
      },
      "execution_count": null,
      "outputs": [
        {
          "output_type": "stream",
          "name": "stdout",
          "text": [
            "x = 2\n",
            "y = 4\n"
          ]
        }
      ]
    },
    {
      "cell_type": "code",
      "source": [],
      "metadata": {
        "id": "3RBTaA-4lr3p"
      },
      "execution_count": null,
      "outputs": []
    }
  ]
}