{
  "cells": [
    {
      "cell_type": "code",
      "execution_count": null,
      "metadata": {
        "id": "LMn8-ZB20Mgs",
        "outputId": "007b9f3c-a4f7-4ed5-b332-a50b711758bd",
        "colab": {
          "base_uri": "https://localhost:8080/"
        }
      },
      "outputs": [
        {
          "output_type": "stream",
          "name": "stdout",
          "text": [
            "Digite um numero para ver a sua tabuada:52\n",
            "52 x 1 = 52\n",
            "52 x 2 = 104\n",
            "52 x 3 = 156\n",
            "52 x 4 = 208\n",
            "52 x 5 = 260\n",
            "52 x 6 = 312\n",
            "52 x 7 = 364\n",
            "52 x 8 = 416\n",
            "52 x 9 = 468\n",
            "52 x 10 = 520\n"
          ]
        }
      ],
      "source": [
        "# Tabuada\n",
        "numero = int(input('Digite um numero para ver a sua tabuada:'))\n",
        "for i in range(1,11):\n",
        "    resultado = numero * i\n",
        "    print(numero,'x', i,'=', resultado)\n"
      ]
    }
  ],
  "metadata": {
    "colab": {
      "provenance": []
    },
    "kernelspec": {
      "display_name": "Python 3",
      "name": "python3"
    },
    "language_info": {
      "codemirror_mode": {
        "name": "ipython",
        "version": 3
      },
      "file_extension": ".py",
      "mimetype": "text/x-python",
      "name": "python",
      "nbconvert_exporter": "python",
      "pygments_lexer": "ipython3",
      "version": "3.13.2"
    }
  },
  "nbformat": 4,
  "nbformat_minor": 0
}