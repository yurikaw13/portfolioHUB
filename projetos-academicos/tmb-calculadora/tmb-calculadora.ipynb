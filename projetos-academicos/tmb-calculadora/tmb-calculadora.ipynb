{
  "cells": [
    {
      "cell_type": "code",
      "execution_count": 1,
      "metadata": {
        "id": "6eTegcZn0Mgr",
        "outputId": "4f363377-365a-42a7-ba99-c3b9c1ea01af",
        "colab": {
          "base_uri": "https://localhost:8080/"
        }
      },
      "outputs": [
        {
          "output_type": "stream",
          "name": "stdout",
          "text": [
            "Qual o seu genero(H - Homem, M - Mulher)?:H\n",
            "Qual o seu peso(em KG)?:70\n",
            "Qual a sua idade?:18\n",
            "Qual a sua altura(em cm)?:175\n",
            "Sua TMB é igual 1782.90 calorias por dia.\n"
          ]
        }
      ],
      "source": [
        "# Calculadora TMB\n",
        "usuario = input('Qual o seu sexo(H - Homem, M - Mulher)?:')\n",
        "peso = float(input('Qual o seu peso(em KG)?:'))\n",
        "idade = int(input('Qual a sua idade?:'))\n",
        "altura = int(input('Qual a sua altura(em cm)?:'))\n",
        "#\n",
        "calculo_homem = 66.47 + (13.75 * peso) + (5.003 * altura) - (6.755 * idade)\n",
        "calculo_mulher = 655.09 + (9.563 * peso) + (1.85 * altura ) - (4.676 * idade)\n",
        "#\n",
        "if usuario == 'H':\n",
        "    print(f'Sua TMB é igual {calculo_homem:.2f}', 'calorias por dia.')\n",
        "elif usuario == 'M':\n",
        "    print(f'Sua TMB é igual a {calculo_mulher:.2f}', 'calorias por dia.')\n",
        "else:\n",
        "    print('Entrada inválida. Digite \"H\" ou \"M\".')\n"
      ]
    }
  ],
  "metadata": {
    "colab": {
      "provenance": []
    },
    "kernelspec": {
      "display_name": "Python 3",
      "name": "python3"
    },
    "language_info": {
      "codemirror_mode": {
        "name": "ipython",
        "version": 3
      },
      "file_extension": ".py",
      "mimetype": "text/x-python",
      "name": "python",
      "nbconvert_exporter": "python",
      "pygments_lexer": "ipython3",
      "version": "3.13.2"
    }
  },
  "nbformat": 4,
  "nbformat_minor": 0
}
