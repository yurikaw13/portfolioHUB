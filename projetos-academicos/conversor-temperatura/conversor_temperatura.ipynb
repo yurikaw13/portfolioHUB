{
  "nbformat": 4,
  "nbformat_minor": 0,
  "metadata": {
    "colab": {
      "provenance": []
    },
    "kernelspec": {
      "name": "python3",
      "display_name": "Python 3"
    },
    "language_info": {
      "name": "python"
    }
  },
  "cells": [
    {
      "cell_type": "code",
      "source": [
        "# conversor de temperatura\n",
        "temp = input('A temperatura está em celsius ou farenheit(\"C\" - celsius, \"F\" - farenheit)?: ')\n",
        "valor = int(input('Qual a temperatura?: '))\n",
        "conta_1 = int(5 * (valor - 32)) / 9\n",
        "conta_2 = int((9 * valor) / 5) + 32\n",
        "\n",
        "if temp == 'C':\n",
        "    print(f'{valor} Cº em farenheit é {conta_2} F.')\n",
        "elif temp == 'F':\n",
        "    print(f'{valor} F em celsius é {conta_1} Cº.')\n",
        "else:\n",
        "    print('Digite \"C\" ou \"F\".')\n"
      ],
      "metadata": {
        "id": "HzYZeAfef1HF",
        "colab": {
          "base_uri": "https://localhost:8080/"
        },
        "outputId": "fd607a9a-9e2d-47e8-d914-ab6a5d4f7d69"
      },
      "execution_count": 3,
      "outputs": [
        {
          "output_type": "stream",
          "name": "stdout",
          "text": [
            "A temperatura está em celsius ou farenheit(\"C\" - celsius, \"F\" - farenheit)?: C\n",
            "Qual a temperatura?: 100\n",
            "100 Cº em farenheit é 212 F.\n"
          ]
        }
      ]
    },
    {
      "cell_type": "code",
      "source": [],
      "metadata": {
        "id": "yPGSlyGyovZ6"
      },
      "execution_count": null,
      "outputs": []
    }
  ]
}